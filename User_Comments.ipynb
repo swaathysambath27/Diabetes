{
  "nbformat": 4,
  "nbformat_minor": 0,
  "metadata": {
    "colab": {
      "name": "User_Comments.ipynb",
      "provenance": []
    },
    "kernelspec": {
      "name": "python3",
      "display_name": "Python 3"
    },
    "language_info": {
      "name": "python"
    }
  },
  "cells": [
    {
      "cell_type": "code",
      "metadata": {
        "colab": {
          "base_uri": "https://localhost:8080/"
        },
        "id": "c2A3M8JOryWk",
        "outputId": "014d349e-a360-43bd-ed81-8df428f3a3b1"
      },
      "source": [
        "!pip3 install app-store-scraper"
      ],
      "execution_count": 1,
      "outputs": [
        {
          "output_type": "stream",
          "text": [
            "Collecting app-store-scraper\n",
            "  Downloading https://files.pythonhosted.org/packages/ba/2e/35eb1628b550d5e936f0a9171c1e3ea978288849693d3c6daab9e74cbab9/app_store_scraper-0.3.5-py3-none-any.whl\n",
            "Requirement already satisfied: requests==2.23.0 in /usr/local/lib/python3.7/dist-packages (from app-store-scraper) (2.23.0)\n",
            "Requirement already satisfied: idna<3,>=2.5 in /usr/local/lib/python3.7/dist-packages (from requests==2.23.0->app-store-scraper) (2.10)\n",
            "Requirement already satisfied: urllib3!=1.25.0,!=1.25.1,<1.26,>=1.21.1 in /usr/local/lib/python3.7/dist-packages (from requests==2.23.0->app-store-scraper) (1.24.3)\n",
            "Requirement already satisfied: chardet<4,>=3.0.2 in /usr/local/lib/python3.7/dist-packages (from requests==2.23.0->app-store-scraper) (3.0.4)\n",
            "Requirement already satisfied: certifi>=2017.4.17 in /usr/local/lib/python3.7/dist-packages (from requests==2.23.0->app-store-scraper) (2020.12.5)\n",
            "Installing collected packages: app-store-scraper\n",
            "Successfully installed app-store-scraper-0.3.5\n"
          ],
          "name": "stdout"
        }
      ]
    },
    {
      "cell_type": "code",
      "metadata": {
        "colab": {
          "base_uri": "https://localhost:8080/"
        },
        "id": "Jyw8ywURry9S",
        "outputId": "179c4ded-6d63-4ec9-f986-5a025d8c8a9a"
      },
      "source": [
        "from pandas import DataFrame\n",
        "from app_store_scraper import AppStore\n",
        "minecraft = AppStore(country=\"us\", app_name=\"Guardian Connect\")\n",
        "reviews_count= minecraft.review(how_many=20)\n",
        "df=minecraft.reviews"
      ],
      "execution_count": 8,
      "outputs": [
        {
          "output_type": "stream",
          "text": [
            "2021-05-23 21:25:52,937 [INFO] Base - Searching for app id\n",
            "2021-05-23 21:25:55,126 [INFO] Base - Initialised: AppStore('us', 'guardian-connect', 1118136759)\n",
            "2021-05-23 21:25:55,128 [INFO] Base - Ready to fetch reviews from: https://apps.apple.com/us/app/guardian-connect/id1118136759\n",
            "2021-05-23 21:25:55,273 [ERROR] Base - Something went wrong: Expecting value: line 1 column 1 (char 0)\n",
            "2021-05-23 21:25:55,274 [INFO] Base - [id:1118136759] Fetched 0 reviews (0 fetched in total)\n"
          ],
          "name": "stderr"
        }
      ]
    },
    {
      "cell_type": "code",
      "metadata": {
        "colab": {
          "base_uri": "https://localhost:8080/",
          "height": 85
        },
        "id": "JQ-Xlf7Lr1Mu",
        "outputId": "17276a23-ab5c-43ba-8cb3-7bf141879c8e"
      },
      "source": [
        "import pandas as pd  \n",
        "df = pd.DataFrame(df)\n",
        "pd.set_option('display.max_rows', df.shape[0]+1,'display.max_colwidth', -1)\n",
        "df\n"
      ],
      "execution_count": 9,
      "outputs": [
        {
          "output_type": "stream",
          "text": [
            "/usr/local/lib/python3.7/dist-packages/ipykernel_launcher.py:3: FutureWarning: Passing a negative integer is deprecated in version 1.0 and will not be supported in future version. Instead, use None to not limit the column width.\n",
            "  This is separate from the ipykernel package so we can avoid doing imports until\n"
          ],
          "name": "stderr"
        },
        {
          "output_type": "execute_result",
          "data": {
            "text/html": [
              "<div>\n",
              "<style scoped>\n",
              "    .dataframe tbody tr th:only-of-type {\n",
              "        vertical-align: middle;\n",
              "    }\n",
              "\n",
              "    .dataframe tbody tr th {\n",
              "        vertical-align: top;\n",
              "    }\n",
              "\n",
              "    .dataframe thead th {\n",
              "        text-align: right;\n",
              "    }\n",
              "</style>\n",
              "<table border=\"1\" class=\"dataframe\">\n",
              "  <thead>\n",
              "    <tr style=\"text-align: right;\">\n",
              "      <th></th>\n",
              "    </tr>\n",
              "  </thead>\n",
              "  <tbody>\n",
              "  </tbody>\n",
              "</table>\n",
              "</div>"
            ],
            "text/plain": [
              "Empty DataFrame\n",
              "Columns: []\n",
              "Index: []"
            ]
          },
          "metadata": {
            "tags": []
          },
          "execution_count": 9
        }
      ]
    },
    {
      "cell_type": "code",
      "metadata": {
        "id": "q4eZgpEZr4V_"
      },
      "source": [
        ""
      ],
      "execution_count": null,
      "outputs": []
    }
  ]
}